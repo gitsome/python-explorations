{
 "cells": [
  {
   "cell_type": "code",
   "execution_count": null,
   "metadata": {},
   "outputs": [],
   "source": [
    "import sys\n",
    "sys.path.insert(0, '..')\n",
    "print(sys.version)"
   ]
  },
  {
   "cell_type": "code",
   "execution_count": null,
   "metadata": {},
   "outputs": [],
   "source": [
    "from shared.comparison import time_comparison"
   ]
  },
  {
   "cell_type": "code",
   "execution_count": null,
   "metadata": {},
   "outputs": [],
   "source": [
    "# reverese lookup to avoid re-shuffle on trailing items using range for looping\n",
    "def sanitize_0 (data, params):\n",
    "    for index in range(len(data) - 1, -1, -1):\n",
    "        if data[index] < params[\"min_valid\"] or data[index] > params[\"max_valid\"]:\n",
    "            del data[index]\n",
    "\n",
    "# reverese lookup to avoid re-shuffle on trailing items ( avoid range which is faster )\n",
    "def sanitize_1 (data, params):\n",
    "    top_index = len(data) - 1\n",
    "    for index, value in enumerate(reversed(data)):\n",
    "        if value < params[\"min_valid\"] or value > params[\"max_valid\"]:\n",
    "            del data[top_index - index]\n",
    "\n",
    "# one step to find and slice the uneeded beginning, then slice off the end\n",
    "def sanitize_2 (data, params):\n",
    "    stop = 0\n",
    "    for index, value in enumerate(data):\n",
    "        if value >= params[\"min_valid\"]:\n",
    "            stop = index\n",
    "            break\n",
    "            \n",
    "    del data[:stop]\n",
    "    \n",
    "    start = 0\n",
    "    for index in range(len(data) - 1, -1, -1):\n",
    "        if data[index] <= params[\"max_valid\"]:\n",
    "            start = index + 1\n",
    "            break\n",
    "            \n",
    "    del data[start:]\n",
    "\n",
    "# the data that will be retrieved for each data_params set\n",
    "def get_data(params):\n",
    "    return [list(range(params[\"max_value\"])), params]\n",
    "    \n",
    "comparison_configs = {\n",
    "    \"x_label\": \"list sizes\",\n",
    "    \"y_label\": \"time\",\n",
    "    \"data_params\": [\n",
    "        {\n",
    "            \"label\": \"\",\n",
    "            \"params\": {\"max_value\": 10, \"min_valid\": 10, \"max_valid\": 7}\n",
    "        },\n",
    "        {\n",
    "            \"label\": \"\",\n",
    "            \"params\": {\"max_value\": 100, \"min_valid\": 10, \"max_valid\": 97}\n",
    "        },\n",
    "        {\n",
    "            \"label\": \"\",\n",
    "            \"params\": {\"max_value\": 1000, \"min_valid\": 10, \"max_valid\": 997}\n",
    "        },\n",
    "        {\n",
    "            \"label\": \"\",\n",
    "            \"params\": {\"max_value\": 10000, \"min_valid\": 10, \"max_valid\": 9997}\n",
    "        },\n",
    "        {\n",
    "            \"label\": \"\",\n",
    "            \"params\": {\"max_value\": 100000, \"min_valid\": 10, \"max_valid\": 99997}\n",
    "        },\n",
    "        {\n",
    "            \"label\": \"\",\n",
    "            \"params\": {\"max_value\": 1000000, \"min_valid\": 10, \"max_valid\": 999997}\n",
    "        }\n",
    "    ],\n",
    "    \"functions\": [sanitize_0, sanitize_1, sanitize_2]\n",
    "}\n",
    "\n",
    "time_comparison(comparison_configs, get_data)\n",
    "    \n",
    "\n"
   ]
  },
  {
   "cell_type": "code",
   "execution_count": null,
   "metadata": {},
   "outputs": [],
   "source": []
  },
  {
   "cell_type": "code",
   "execution_count": null,
   "metadata": {},
   "outputs": [],
   "source": []
  }
 ],
 "metadata": {
  "kernelspec": {
   "display_name": ".venv",
   "language": "python",
   "name": ".venv"
  },
  "language_info": {
   "codemirror_mode": {
    "name": "ipython",
    "version": 3
   },
   "file_extension": ".py",
   "mimetype": "text/x-python",
   "name": "python",
   "nbconvert_exporter": "python",
   "pygments_lexer": "ipython3"
  }
 },
 "nbformat": 4,
 "nbformat_minor": 4
}
