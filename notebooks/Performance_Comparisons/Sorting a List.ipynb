{
 "cells": [
  {
   "cell_type": "code",
   "execution_count": null,
   "metadata": {},
   "outputs": [],
   "source": [
    "import sys\n",
    "sys.path.insert(0, '..')\n",
    "print(sys.version)"
   ]
  },
  {
   "cell_type": "code",
   "execution_count": null,
   "metadata": {},
   "outputs": [],
   "source": [
    "from shared.comparison import time_comparison"
   ]
  },
  {
   "cell_type": "code",
   "execution_count": null,
   "metadata": {},
   "outputs": [],
   "source": [
    "# sort in place \n",
    "def sort_in_place (data, params):\n",
    "    return data.sort()\n",
    "\n",
    "# sorted copy\n",
    "def sort_sorted_copy (data, params):\n",
    "    return sorted(data)\n",
    "\n",
    "\n",
    "# the data that will be retrieved for each data_params set\n",
    "def get_data(params):\n",
    "    return [list(range(params[\"size\"])), params]\n",
    "    \n",
    "params_package = {\n",
    "    \"x_label\": \"list sizes\",\n",
    "    \"y_label\": \"time\",\n",
    "    \"data_params\": [\n",
    "        {\n",
    "            \"label\": \"\",\n",
    "            \"params\": {\"size\": 10}\n",
    "        },\n",
    "        {\n",
    "            \"label\": \"\",\n",
    "            \"params\": {\"size\": 100}\n",
    "        },\n",
    "        {\n",
    "            \"label\": \"\",\n",
    "            \"params\": {\"size\": 1000}\n",
    "        },\n",
    "        {\n",
    "            \"label\": \"\",\n",
    "            \"params\": {\"size\": 10000}\n",
    "        },\n",
    "        {\n",
    "            \"label\": \"\",\n",
    "            \"params\": {\"size\": 100000}\n",
    "        },\n",
    "        {\n",
    "            \"label\": \"\",\n",
    "            \"params\": {\"size\": 1000000}\n",
    "        },\n",
    "        {\n",
    "            \"label\": \"\",\n",
    "            \"params\": {\"size\": 10000000}\n",
    "        }\n",
    "    ],\n",
    "    \"functions\": [sort_in_place, sort_sorted_copy]\n",
    "}\n",
    "\n",
    "time_comparison(params_package, get_data)\n",
    "    \n",
    "\n"
   ]
  },
  {
   "cell_type": "code",
   "execution_count": null,
   "metadata": {},
   "outputs": [],
   "source": []
  },
  {
   "cell_type": "code",
   "execution_count": null,
   "metadata": {},
   "outputs": [],
   "source": []
  }
 ],
 "metadata": {
  "kernelspec": {
   "display_name": ".venv",
   "language": "python",
   "name": ".venv"
  },
  "language_info": {
   "codemirror_mode": {
    "name": "ipython",
    "version": 3
   },
   "file_extension": ".py",
   "mimetype": "text/x-python",
   "name": "python",
   "nbconvert_exporter": "python",
   "pygments_lexer": "ipython3"
  }
 },
 "nbformat": 4,
 "nbformat_minor": 4
}
