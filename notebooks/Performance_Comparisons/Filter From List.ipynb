{
 "cells": [
  {
   "cell_type": "code",
   "execution_count": null,
   "metadata": {},
   "outputs": [],
   "source": [
    "import sys\n",
    "import random\n",
    "print(sys.version)"
   ]
  },
  {
   "cell_type": "code",
   "execution_count": null,
   "metadata": {},
   "outputs": [],
   "source": [
    "%run time_comparison # include the local time_comparison module"
   ]
  },
  {
   "cell_type": "code",
   "execution_count": null,
   "metadata": {},
   "outputs": [],
   "source": [
    "\n",
    "def filter_module (data, params):\n",
    "    return list(filter(lambda x: x == True, data))\n",
    "\n",
    "def filter_list_comprehension (data, params):\n",
    "    return [x for x in data if x == True]\n",
    "       \n",
    "# the data that will be retrieved for each data_params set\n",
    "def get_data(params):\n",
    "    data = random.choices([False, True], weights=[params[\"percent_to_filter\"], 1.0 - params[\"percent_to_filter\"]], k = params[\"size\"])\n",
    "    return [data, params]\n",
    "    \n",
    "comparison_configs = {\n",
    "    \"x_label\": \"list sizes\",\n",
    "    \"y_label\": \"time\",\n",
    "    \"data_params\": [\n",
    "        {\n",
    "            \"label\": \"\",\n",
    "            \"params\": {\"size\": 10, \"percent_to_filter\": 0.5}\n",
    "        },\n",
    "        {\n",
    "            \"label\": \"\",\n",
    "            \"params\": {\"size\": 100, \"percent_to_filter\": 0.5}\n",
    "        },\n",
    "        {\n",
    "            \"label\": \"\",\n",
    "            \"params\": {\"size\": 1000, \"percent_to_filter\": 0.5}\n",
    "        },\n",
    "        {\n",
    "            \"label\": \"\",\n",
    "            \"params\": {\"size\": 10000, \"percent_to_filter\": 0.5}\n",
    "        },\n",
    "        {\n",
    "            \"label\": \"\",\n",
    "            \"params\": {\"size\": 100000, \"percent_to_filter\": 0.5}\n",
    "        },\n",
    "        {\n",
    "            \"label\": \"\",\n",
    "            \"params\": {\"size\": 1000000, \"percent_to_filter\": 0.5}\n",
    "        }\n",
    "    ],\n",
    "    \"functions\": [filter_module, filter_list_comprehension]\n",
    "}\n",
    "\n",
    "time_comparison(comparison_configs, get_data)\n",
    "    \n",
    "\n"
   ]
  },
  {
   "cell_type": "code",
   "execution_count": null,
   "metadata": {},
   "outputs": [],
   "source": []
  },
  {
   "cell_type": "code",
   "execution_count": null,
   "metadata": {},
   "outputs": [],
   "source": []
  }
 ],
 "metadata": {
  "kernelspec": {
   "display_name": "Python 3",
   "language": "python",
   "name": "python3"
  },
  "language_info": {
   "codemirror_mode": {
    "name": "ipython",
    "version": 3
   },
   "file_extension": ".py",
   "mimetype": "text/x-python",
   "name": "python",
   "nbconvert_exporter": "python",
   "pygments_lexer": "ipython3"
  }
 },
 "nbformat": 4,
 "nbformat_minor": 2
}
