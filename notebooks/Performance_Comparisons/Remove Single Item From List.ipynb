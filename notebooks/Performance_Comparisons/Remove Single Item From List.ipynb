{
 "cells": [
  {
   "cell_type": "code",
   "execution_count": null,
   "metadata": {},
   "outputs": [],
   "source": [
    "import sys\n",
    "import random\n",
    "print(sys.version)"
   ]
  },
  {
   "cell_type": "code",
   "execution_count": null,
   "metadata": {},
   "outputs": [],
   "source": [
    "%run time_comparison # include the local time_comparison module"
   ]
  },
  {
   "cell_type": "code",
   "execution_count": null,
   "metadata": {},
   "outputs": [],
   "source": [
    "\n",
    "def remove_item_filter (data, itemToRemove, params):\n",
    "    return list(filter(lambda x: x == itemToRemove, data))\n",
    "\n",
    "def remove_item_list_comprehension (data, itemToRemove, params):\n",
    "    return [x for x in data if x == itemToRemove]\n",
    "\n",
    "def remove_item_remove_method (data, itemToRemove, params):\n",
    "    data.remove(itemToRemove)\n",
    "    return data\n",
    "\n",
    "# the data that will be retrieved for each data_params set\n",
    "def get_data(params):\n",
    "    data = list(range(0, params[\"size\"]))\n",
    "    return [data, data[params[\"position\"]], params]\n",
    "    \n",
    "comparison_configs = {\n",
    "    \"x_label\": \"list sizes\",\n",
    "    \"y_label\": \"time\",\n",
    "    \"data_params\": [\n",
    "        {\n",
    "            \"label\": \"\",\n",
    "            \"params\": {\"size\": 10, \"position\": 5}\n",
    "        },\n",
    "        {\n",
    "            \"label\": \"\",\n",
    "            \"params\": {\"size\": 100, \"position\": 50}\n",
    "        },\n",
    "        {\n",
    "            \"label\": \"\",\n",
    "            \"params\": {\"size\": 1000, \"position\": 500}\n",
    "        },\n",
    "        {\n",
    "            \"label\": \"\",\n",
    "            \"params\": {\"size\": 10000, \"position\": 5000}\n",
    "        },\n",
    "        {\n",
    "            \"label\": \"\",\n",
    "            \"params\": {\"size\": 100000, \"position\": 50000}\n",
    "        },\n",
    "        {\n",
    "            \"label\": \"\",\n",
    "            \"params\": {\"size\": 1000000, \"position\": 500000}\n",
    "        }\n",
    "    ],\n",
    "    \"functions\": [remove_item_filter, remove_item_list_comprehension, remove_item_remove_method]\n",
    "}\n",
    "\n",
    "time_comparison(comparison_configs, get_data)\n",
    "    \n",
    "\n"
   ]
  },
  {
   "cell_type": "code",
   "execution_count": null,
   "metadata": {},
   "outputs": [],
   "source": []
  },
  {
   "cell_type": "code",
   "execution_count": null,
   "metadata": {},
   "outputs": [],
   "source": []
  }
 ],
 "metadata": {
  "kernelspec": {
   "display_name": ".venv",
   "language": "python",
   "name": ".venv"
  },
  "language_info": {
   "codemirror_mode": {
    "name": "ipython",
    "version": 3
   },
   "file_extension": ".py",
   "mimetype": "text/x-python",
   "name": "python",
   "nbconvert_exporter": "python",
   "pygments_lexer": "ipython3"
  }
 },
 "nbformat": 4,
 "nbformat_minor": 4
}
