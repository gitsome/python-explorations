{
 "cells": [
  {
   "cell_type": "code",
   "execution_count": null,
   "metadata": {},
   "outputs": [],
   "source": [
    "import sys\n",
    "sys.path.insert(0, '..')\n",
    "print(sys.version)"
   ]
  },
  {
   "cell_type": "code",
   "execution_count": null,
   "metadata": {},
   "outputs": [],
   "source": [
    "from shared.comparison import time_comparison"
   ]
  },
  {
   "cell_type": "code",
   "execution_count": null,
   "metadata": {},
   "outputs": [],
   "source": [
    "\n",
    "def copy_list_append (data, params):\n",
    "    new_list = []\n",
    "    for item in data: \n",
    "        new_list.append(item)\n",
    "    return new_list     \n",
    "        \n",
    "def copy_list_slice (data, params):\n",
    "    return data[:]\n",
    "\n",
    "def copy_list_extend (data, params):\n",
    "    new_list = []\n",
    "    return new_list.extend(data)\n",
    "\n",
    "def copy_list_list_module (data, params):\n",
    "    return list(data)\n",
    "\n",
    "def copy_list_copy (data, params):\n",
    "    return data.copy()\n",
    "\n",
    "\n",
    "# the data that will be retrieved for each data_params set\n",
    "def get_data(params):\n",
    "    return [list(range(params[\"size\"])), params]\n",
    "    \n",
    "comparison_configs = {\n",
    "    \"x_label\": \"list sizes\",\n",
    "    \"y_label\": \"time\",\n",
    "    \"data_params\": [\n",
    "        {\n",
    "            \"label\": \"\",\n",
    "            \"params\": {\"size\": 10}\n",
    "        },\n",
    "        {\n",
    "            \"label\": \"\",\n",
    "            \"params\": {\"size\": 100}\n",
    "        },\n",
    "        {\n",
    "            \"label\": \"\",\n",
    "            \"params\": {\"size\": 1000}\n",
    "        },\n",
    "        {\n",
    "            \"label\": \"\",\n",
    "            \"params\": {\"size\": 10000}\n",
    "        },\n",
    "        {\n",
    "            \"label\": \"\",\n",
    "            \"params\": {\"size\": 100000}\n",
    "        },\n",
    "        {\n",
    "            \"label\": \"\",\n",
    "            \"params\": {\"size\": 1000000}\n",
    "        },\n",
    "        {\n",
    "            \"label\": \"\",\n",
    "            \"params\": {\"size\": 10000000}\n",
    "        }\n",
    "    ],\n",
    "    \"functions\": [copy_list_append, copy_list_slice, copy_list_extend, copy_list_list_module, copy_list_copy ]\n",
    "}\n",
    "\n",
    "time_comparison(comparison_configs, get_data)\n",
    "    \n",
    "\n"
   ]
  },
  {
   "cell_type": "code",
   "execution_count": null,
   "metadata": {},
   "outputs": [],
   "source": []
  },
  {
   "cell_type": "code",
   "execution_count": null,
   "metadata": {},
   "outputs": [],
   "source": []
  }
 ],
 "metadata": {
  "kernelspec": {
   "display_name": ".venv",
   "language": "python",
   "name": ".venv"
  },
  "language_info": {
   "codemirror_mode": {
    "name": "ipython",
    "version": 3
   },
   "file_extension": ".py",
   "mimetype": "text/x-python",
   "name": "python",
   "nbconvert_exporter": "python",
   "pygments_lexer": "ipython3"
  }
 },
 "nbformat": 4,
 "nbformat_minor": 4
}
