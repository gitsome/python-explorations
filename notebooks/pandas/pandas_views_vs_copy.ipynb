{
 "cells": [
  {
   "cell_type": "code",
   "execution_count": null,
   "metadata": {},
   "outputs": [],
   "source": [
    "import numpy as np\n",
    "import pandas as pd"
   ]
  },
  {
   "cell_type": "markdown",
   "metadata": {},
   "source": [
    "# Pandas Views vs Copy. Understanding the `SettingWithCopyWarning` message."
   ]
  },
  {
   "cell_type": "markdown",
   "metadata": {},
   "source": [
    "## The Warning Explained\n",
    "\n",
    "The warning is there to help users understand that they need to explicitely understand what they are doing because Pandas does not!\n",
    "\n",
    "Generally, if Pandas can't detect if you are performing a `set` operation on a copy or a view, it throws the warning.\n",
    "\n",
    "After the warning, the `set` may or may not actually work as expected because the `set` occured on a copy or a view when the other was intended.\n",
    "\n",
    "Theoretically, if you always know what you are doing, you could turn this warning off.\n",
    "\n",
    "You could also follow different patterns to avoid the warning and provide more clarity in your code.\n",
    "\n",
    "This [article explains](https://www.dataquest.io/blog/settingwithcopywarning/) it very well.\n",
    "\n",
    "You can get another perspective from [this article](https://www.practicaldatascience.org/html/views_and_copies_in_pandas.html) and in [this video](https://www.youtube.com/watch?v=4R4WsDJ-KVc).\n",
    "\n",
    "### Some Rules to Consider\n",
    "\n",
    "Here's the rules ( [see stackoverflow issue](https://stackoverflow.com/questions/23296282/what-rules-does-pandas-use-to-generate-a-view-vs-a-copy) ):\n",
    "\n",
    "- All operations generate a copy\n",
    "- If inplace=True is provided, it will modify in-place; only some operations support this\n",
    "- An indexer that sets, e.g. .loc/.iloc/.iat/.at will set inplace.\n",
    "- An indexer that gets on a single-dtyped object is almost always a view (depending on the memory layout it may not be that's why this is not reliable). This is mainly for efficiency. (the example from above is for .query; this will always return a copy as its evaluated by numexpr)\n",
    "- An indexer that gets on a multiple-dtyped object is always a copy.\n",
    "\n",
    "### View and Copy aren't consistent, it depends on the memory layout...\n",
    "\n",
    "An indexer-get operation on a multi-dtyped object will always return a copy. However, mainly for efficiency, an indexer get operation on a single-dtyped object almost always returns a view; the caveat here being that this depends on the memory layout of the object and is not guaranteed.\n",
    "\n",
    "So generally speaking, it can be challenging to know as a developer what is going on so it's safer to not execute a set on an indexed object?\n",
    "\n",
    "### Some Other Good Advice\n",
    "\n",
    "From [this article](https://www.dataquest.io/blog/settingwithcopywarning/):\n",
    "\n",
    "> The trick is to learn to identify chained indexing and avoid it at all costs. If you want to change the original, use a single assignment operation. If you want a copy, make sure you force pandas to do just that. This will save time and make your code water-tight.\n",
    "> Also note that even though the SettingWithCopyWarning will only occur when you are setting, it’s best to avoid chained indexing for gets too. Chained operations are slower and will cause problems if you decide to add assignment operations later on.\n",
    "\n",
    "The complexity underlying the SettingWithCopyWarning is one of the few rough edges in the pandas library. Its roots are very deeply embedded in the library and should not be ignored. In Jeff Reback’s own words there “are no cases that I am aware [of] that you should actually ignore this warning. … If you do certain types of indexing it will never work, others it will work. You are really playing with fire.”\n",
    "\n",
    "Fortunately, addressing the warning only requires you to identify chained assignment and fix it. If there’s just one thing to take away from all this, it’s that."
   ]
  },
  {
   "cell_type": "markdown",
   "metadata": {},
   "source": [
    "## Which Slices Return Views?"
   ]
  },
  {
   "cell_type": "markdown",
   "metadata": {},
   "source": [
    "### Columnfrom DataFrame -> Series"
   ]
  },
  {
   "cell_type": "code",
   "execution_count": null,
   "metadata": {},
   "outputs": [],
   "source": [
    "dict_table = {\n",
    "    \"col1\": [0,1,2,3,4], \n",
    "    \"col2\": [\"a\", \"b\", \"c\", \"d\", \"e\"],\n",
    "    \"col3\": [True, False, True, True, False]\n",
    "}\n",
    "df_1 = pd.DataFrame(dict_table)"
   ]
  },
  {
   "cell_type": "code",
   "execution_count": null,
   "metadata": {},
   "outputs": [],
   "source": [
    "df_1"
   ]
  },
  {
   "cell_type": "code",
   "execution_count": null,
   "metadata": {},
   "outputs": [],
   "source": [
    "col2 = df_one[\"col2\"]"
   ]
  },
  {
   "cell_type": "code",
   "execution_count": null,
   "metadata": {},
   "outputs": [],
   "source": [
    "# Is this a view or a copy?\n",
    "col2[0] = \"z\""
   ]
  },
  {
   "cell_type": "code",
   "execution_count": null,
   "metadata": {},
   "outputs": [],
   "source": [
    "col2[0]"
   ]
  },
  {
   "cell_type": "code",
   "execution_count": null,
   "metadata": {},
   "outputs": [],
   "source": [
    "df_1[\"col2\"][0]"
   ]
  },
  {
   "cell_type": "markdown",
   "metadata": {},
   "source": [
    "So as you can see, slicine out a column in this manor provides a view so modifying the series also modifies the same cell back in the view. If you as the developer understood that you received a view, then this would all work as expected. Pandas wants to make sure you know what you are doing and warn you."
   ]
  },
  {
   "cell_type": "markdown",
   "metadata": {},
   "source": [
    "## The Better Way to Do This\n",
    "\n",
    "Because you can't dependbly know if what was returned was a copy or a view, it's best to avoid assigment all together because you won't know if it will or wont' affect the root data frame.\n",
    "\n",
    "Therefore, if your intention is to update the copy, make a copy and be explicit.\n",
    "\n",
    "If you want to change the original, do so using loc."
   ]
  },
  {
   "cell_type": "markdown",
   "metadata": {},
   "source": [
    "### Making a Change to A Copy"
   ]
  },
  {
   "cell_type": "code",
   "execution_count": null,
   "metadata": {},
   "outputs": [],
   "source": [
    "dict_table = {\n",
    "    \"col1\": [0,1,2,3,4], \n",
    "    \"col2\": [\"a\", \"b\", \"c\", \"d\", \"e\"],\n",
    "    \"col3\": [True, False, True, True, False]\n",
    "}\n",
    "df_2 = pd.DataFrame(dict_table)"
   ]
  },
  {
   "cell_type": "code",
   "execution_count": null,
   "metadata": {},
   "outputs": [],
   "source": [
    "col2 = df_2[\"col2\"].copy()"
   ]
  },
  {
   "cell_type": "code",
   "execution_count": null,
   "metadata": {},
   "outputs": [],
   "source": [
    "col2[0] = \"z\""
   ]
  },
  {
   "cell_type": "code",
   "execution_count": null,
   "metadata": {},
   "outputs": [],
   "source": [
    "col2"
   ]
  },
  {
   "cell_type": "code",
   "execution_count": null,
   "metadata": {},
   "outputs": [],
   "source": [
    "df_2"
   ]
  },
  {
   "cell_type": "markdown",
   "metadata": {},
   "source": [
    "### Making a Change to the Original"
   ]
  },
  {
   "cell_type": "code",
   "execution_count": null,
   "metadata": {},
   "outputs": [],
   "source": [
    "dict_table = {\n",
    "    \"col1\": [0,1,2,3,4], \n",
    "    \"col2\": [\"a\", \"b\", \"c\", \"d\", \"e\"],\n",
    "    \"col3\": [True, False, True, True, False]\n",
    "}\n",
    "df_3 = pd.DataFrame(dict_table)"
   ]
  },
  {
   "cell_type": "code",
   "execution_count": null,
   "metadata": {},
   "outputs": [],
   "source": [
    "df_3.loc[0, \"col2\"] = \"z\""
   ]
  },
  {
   "cell_type": "code",
   "execution_count": null,
   "metadata": {},
   "outputs": [],
   "source": [
    "df_3"
   ]
  }
 ],
 "metadata": {
  "kernelspec": {
   "display_name": ".venv",
   "language": "python",
   "name": ".venv"
  },
  "language_info": {
   "codemirror_mode": {
    "name": "ipython",
    "version": 3
   },
   "file_extension": ".py",
   "mimetype": "text/x-python",
   "name": "python",
   "nbconvert_exporter": "python",
   "pygments_lexer": "ipython3"
  }
 },
 "nbformat": 4,
 "nbformat_minor": 4
}
