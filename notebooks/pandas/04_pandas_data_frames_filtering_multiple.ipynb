{
 "cells": [
  {
   "cell_type": "code",
   "execution_count": null,
   "metadata": {},
   "outputs": [],
   "source": [
    "import sys\n",
    "sys.path.insert(0, '..')\n",
    "\n",
    "import numpy as np\n",
    "import pandas as pd\n",
    "import time\n",
    "import datetime\n",
    "\n",
    "from shared.comparison import time_comparison"
   ]
  },
  {
   "cell_type": "markdown",
   "metadata": {},
   "source": [
    "# Data Frames - Filtering on Multiple Conditions"
   ]
  },
  {
   "cell_type": "code",
   "execution_count": null,
   "metadata": {},
   "outputs": [],
   "source": [
    "employees = pd.read_csv(\"data_files/employees.csv\", parse_dates=[\"Start Date\", \"Last Login Time\"])\n",
    "employees.head()"
   ]
  },
  {
   "cell_type": "code",
   "execution_count": null,
   "metadata": {},
   "outputs": [],
   "source": [
    "employees[\"Senior Management\"] = employees[\"Senior Management\"].astype(\"bool\")\n",
    "employees[\"Gender\"] = employees[\"Gender\"].astype(\"category\")\n",
    "employees.info()"
   ]
  },
  {
   "cell_type": "markdown",
   "metadata": {},
   "source": [
    "## Male and Marketing"
   ]
  },
  {
   "cell_type": "code",
   "execution_count": null,
   "metadata": {},
   "outputs": [],
   "source": [
    "male_mask = employees[\"Gender\"] == \"Male\"\n",
    "marketing_mask = employees[\"Team\"] == \"Marketing\"\n",
    "male_and_marketing = male_mask & marketing_mask\n",
    "male_and_marketing"
   ]
  },
  {
   "cell_type": "code",
   "execution_count": null,
   "metadata": {},
   "outputs": [],
   "source": [
    "employees[male_and_marketing].head()"
   ]
  },
  {
   "cell_type": "markdown",
   "metadata": {},
   "source": [
    "## `Senior Management` or `Start Date` before Jan 1st 1990"
   ]
  },
  {
   "cell_type": "code",
   "execution_count": null,
   "metadata": {},
   "outputs": [],
   "source": [
    "sm_mask = employees[\"Senior Management\"] == True"
   ]
  },
  {
   "cell_type": "code",
   "execution_count": null,
   "metadata": {},
   "outputs": [],
   "source": [
    "date_1990 = datetime.datetime(1990, 1, 1)\n",
    "start_date_mask = employees[\"Start Date\"] < date_1990"
   ]
  },
  {
   "cell_type": "code",
   "execution_count": null,
   "metadata": {},
   "outputs": [],
   "source": [
    "sm_or_start_date_before_1990_mask = sm_mask | start_date_mask"
   ]
  },
  {
   "cell_type": "code",
   "execution_count": null,
   "metadata": {},
   "outputs": [],
   "source": [
    "# Careful reading this... you should see the SM column true for the first few columns while the start date violates the first mask\n",
    "# This is expected because it is an OR mask\n",
    "employees[sm_or_start_date_before_1990_mask]"
   ]
  },
  {
   "cell_type": "markdown",
   "metadata": {},
   "source": [
    "## Either `First Name` is \"Robert\" and `Team` is \"Client Services\" or `Start Date` is greater than June 1st 2016"
   ]
  },
  {
   "cell_type": "code",
   "execution_count": null,
   "metadata": {},
   "outputs": [],
   "source": [
    "first_name_mask = employees[\"First Name\"] == \"Robert\"\n",
    "team_mask = employees[\"Team\"] == \"Client Services\"\n",
    "start_date_mask = employees[\"Start Date\"] > datetime.datetime(2016, 6, 1)"
   ]
  },
  {
   "cell_type": "code",
   "execution_count": null,
   "metadata": {},
   "outputs": [],
   "source": [
    "employees[(first_name_mask & team_mask) | start_date_mask]"
   ]
  },
  {
   "cell_type": "markdown",
   "metadata": {},
   "source": [
    "# Data Frames - Inclusing using the `isin` Method"
   ]
  },
  {
   "cell_type": "markdown",
   "metadata": {},
   "source": [
    "## Extract all Rows WHERE Team in [\"Legal\", \"Sales\", \"Product\"]"
   ]
  },
  {
   "cell_type": "code",
   "execution_count": null,
   "metadata": {},
   "outputs": [],
   "source": [
    "employees[\"Team\"].value_counts()"
   ]
  },
  {
   "cell_type": "code",
   "execution_count": null,
   "metadata": {},
   "outputs": [],
   "source": [
    "legal_mask = employees[\"Team\"] == \"Legal\"\n",
    "sales_mask = employees[\"Team\"] == \"Sales\"\n",
    "product_mask = employees[\"Team\"] == \"Product\"\n",
    "filtered_by_team = employees[legal_mask | sales_mask | product_mask]"
   ]
  },
  {
   "cell_type": "code",
   "execution_count": null,
   "metadata": {},
   "outputs": [],
   "source": [
    "filtered_by_team[\"Team\"].value_counts()"
   ]
  },
  {
   "cell_type": "markdown",
   "metadata": {},
   "source": [
    "### The Better Way"
   ]
  },
  {
   "cell_type": "code",
   "execution_count": null,
   "metadata": {},
   "outputs": [],
   "source": [
    "team_mask = employees[\"Team\"].isin([\"Legal\", \"Sales\", \"Product\"])\n",
    "filtered_by_team_better = employees[team_mask]"
   ]
  },
  {
   "cell_type": "code",
   "execution_count": null,
   "metadata": {},
   "outputs": [],
   "source": [
    "filtered_by_team_better[\"Team\"].value_counts()"
   ]
  },
  {
   "cell_type": "markdown",
   "metadata": {},
   "source": [
    "# The `.isnull()` and `.notnull()` Methods"
   ]
  },
  {
   "cell_type": "markdown",
   "metadata": {},
   "source": [
    "## Extract all Rows WHERE `Team` value is `Null`"
   ]
  },
  {
   "cell_type": "code",
   "execution_count": null,
   "metadata": {},
   "outputs": [],
   "source": [
    "team_null_mask = employees[\"Team\"].isnull()\n",
    "employees[team_null_mask].head()"
   ]
  },
  {
   "cell_type": "markdown",
   "metadata": {},
   "source": [
    "# The `.between()` Method"
   ]
  },
  {
   "cell_type": "markdown",
   "metadata": {},
   "source": [
    "## All Employees with Salary Between `60,000` and `70,000` inclusive"
   ]
  },
  {
   "cell_type": "code",
   "execution_count": null,
   "metadata": {},
   "outputs": [],
   "source": [
    "salary_mask = employees[\"Salary\"].between(60000, 70000)"
   ]
  },
  {
   "cell_type": "code",
   "execution_count": null,
   "metadata": {},
   "outputs": [],
   "source": [
    "employees[salary_mask].head()"
   ]
  },
  {
   "cell_type": "code",
   "execution_count": null,
   "metadata": {},
   "outputs": [],
   "source": [
    "employees[salary_mask][\"Salary\"].mean()"
   ]
  },
  {
   "cell_type": "markdown",
   "metadata": {},
   "source": [
    "# The `.duplicated` Method\n",
    "\n",
    "Pay close attention to the params of this method. Note, by default the `keep` param is \"First\"."
   ]
  },
  {
   "cell_type": "code",
   "execution_count": null,
   "metadata": {},
   "outputs": [],
   "source": [
    "employees_sorted_by_name = employees.sort_values(\"First Name\")"
   ]
  },
  {
   "cell_type": "code",
   "execution_count": null,
   "metadata": {},
   "outputs": [],
   "source": [
    "employees_sorted_by_name.head()"
   ]
  },
  {
   "cell_type": "markdown",
   "metadata": {},
   "source": [
    "### WHOA! Notice the `~`\n",
    "\n",
    "The `~` inverts the mask which allows us to remove duplicates"
   ]
  },
  {
   "cell_type": "code",
   "execution_count": null,
   "metadata": {},
   "outputs": [],
   "source": [
    "dup_first_name_mask = ~employees_sorted_by_name[\"First Name\"].duplicated()\n",
    "dup_first_name_mask"
   ]
  },
  {
   "cell_type": "code",
   "execution_count": null,
   "metadata": {},
   "outputs": [],
   "source": [
    "employees_sorted_by_name[dup_first_name_mask].head()"
   ]
  },
  {
   "cell_type": "markdown",
   "metadata": {},
   "source": [
    "# The `.drop_duplicates` Method on a DataFrame\n",
    "\n",
    "While the `duplicated()` method can be called on a series, we can use the `.drop_duplicates` method on a `DataFrame`"
   ]
  },
  {
   "cell_type": "code",
   "execution_count": null,
   "metadata": {},
   "outputs": [],
   "source": [
    "employees_sorted_by_name = employees.sort_values(\"First Name\")\n",
    "employees_sorted_by_name.drop_duplicates(subset=[\"First Name\"])"
   ]
  },
  {
   "cell_type": "code",
   "execution_count": null,
   "metadata": {},
   "outputs": [],
   "source": [
    "employees_sorted_by_gender_team = employees.sort_values(\"Team\")\n",
    "employees_sorted_by_gender_team.drop_duplicates(subset=[\"Team\", \"Gender\"])"
   ]
  },
  {
   "cell_type": "code",
   "execution_count": null,
   "metadata": {},
   "outputs": [],
   "source": []
  }
 ],
 "metadata": {
  "kernelspec": {
   "display_name": ".venv",
   "language": "python",
   "name": ".venv"
  },
  "language_info": {
   "codemirror_mode": {
    "name": "ipython",
    "version": 3
   },
   "file_extension": ".py",
   "mimetype": "text/x-python",
   "name": "python",
   "nbconvert_exporter": "python",
   "pygments_lexer": "ipython3"
  }
 },
 "nbformat": 4,
 "nbformat_minor": 4
}
