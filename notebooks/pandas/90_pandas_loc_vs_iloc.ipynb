{
 "cells": [
  {
   "cell_type": "code",
   "execution_count": null,
   "metadata": {},
   "outputs": [],
   "source": [
    "import sys\n",
    "sys.path.insert(0, '..')\n",
    "\n",
    "import numpy as np\n",
    "import pandas as pd\n",
    "import time\n",
    "\n",
    "from shared.comparison import time_comparison"
   ]
  },
  {
   "cell_type": "markdown",
   "metadata": {},
   "source": [
    "# Pandas `.loc` vs `.iloc`\n",
    "\n",
    "The `.loc` access slices the data according to labels.\n",
    "\n",
    "The `.iloc` access import sys\n",
    "sys.path.insert(0, '..')\n",
    "\n",
    "import numpy as np\n",
    "import pandas as pd\n",
    "import time\n",
    "\n",
    "from shared.comparison import time_comparisonslices the data according to indexes.\n",
    "\n",
    "Label based location, vs index based location. What they look like and which is faster?"
   ]
  },
  {
   "cell_type": "code",
   "execution_count": null,
   "metadata": {},
   "outputs": [],
   "source": [
    "data = pd.read_csv(\"data_files/chicago.csv\", low_memory=False)\n",
    "data.head()"
   ]
  },
  {
   "cell_type": "markdown",
   "metadata": {},
   "source": [
    "## Comparing `iloc` and `loc`\n",
    "\n",
    "Now its time for a comparison around accessing `DataFrame` using `iloc` and `loc`.\n",
    "\n",
    "Generally speaking, because `iloc` is index based, it can have benefits in certain situations. Lets explore.\n",
    "\n",
    "Check out this [stackoverflow issue](https://stackoverflow.com/questions/28757389/pandas-loc-vs-iloc-vs-ix-vs-at-vs-iat) for more info."
   ]
  },
  {
   "cell_type": "code",
   "execution_count": null,
   "metadata": {},
   "outputs": [],
   "source": [
    "data = pd.read_csv(\"data_files/chicago.csv\", low_memory=False)\n",
    "data.shape"
   ]
  },
  {
   "cell_type": "markdown",
   "metadata": {},
   "source": [
    "### Selecting All Rows and Certain Columns"
   ]
  },
  {
   "cell_type": "code",
   "execution_count": null,
   "metadata": {},
   "outputs": [],
   "source": [
    "def all_rows_some_columns_iloc (data, params):\n",
    "    iloc_data = data.iloc[:,:3]   \n",
    "        \n",
    "def all_rows_some_columns_list_loc (data, params):\n",
    "    loc_data = data.loc[:,[\"Name\",\"Department\", \"Position Title\"]]\n",
    "\n",
    "def all_rows_some_columns_slice_loc (data, params):\n",
    "    loc_data_2 = data.loc[:,:\"Department\"]\n",
    "\n",
    "# the data that will be retrieved for each data_params set\n",
    "def get_data(params):\n",
    "    return [data, params]\n",
    "    \n",
    "comparison_configs = {\n",
    "    \"x_label\": \"attempts\",\n",
    "    \"y_label\": \"time\",\n",
    "    \"data_params\": [\n",
    "        {\n",
    "            \"params\": {}\n",
    "        }\n",
    "    ],\n",
    "    \"functions\": [\n",
    "        all_rows_some_columns_iloc, \n",
    "        all_rows_some_columns_list_loc, \n",
    "        all_rows_some_columns_slice_loc\n",
    "    ]\n",
    "}\n",
    "\n",
    "time_comparison(comparison_configs, get_data, 20)"
   ]
  },
  {
   "cell_type": "markdown",
   "metadata": {},
   "source": [
    "### Selecting Certain Rows and All Columns"
   ]
  },
  {
   "cell_type": "code",
   "execution_count": null,
   "metadata": {},
   "outputs": [],
   "source": [
    "def some_rows_all_columns_iloc (data, params):\n",
    "    iloc_data = data.iloc[20:12000,:]   \n",
    "        \n",
    "def some_rows_all_columns_loc (data, params):\n",
    "    loc_data = data.loc[20:12000,:]\n",
    "\n",
    "# the data that will be retrieved for each data_params set\n",
    "def get_data(params):\n",
    "    return [data, params]\n",
    "    \n",
    "comparison_configs = {\n",
    "    \"x_label\": \"attempts\",\n",
    "    \"y_label\": \"time\",\n",
    "    \"data_params\": [\n",
    "        {\n",
    "            \"params\": {}\n",
    "        }\n",
    "    ],\n",
    "    \"functions\": [\n",
    "        some_rows_all_columns_iloc, \n",
    "        some_rows_all_columns_loc\n",
    "    ]\n",
    "}\n",
    "\n",
    "time_comparison(comparison_configs, get_data, 20)"
   ]
  }
 ],
 "metadata": {
  "kernelspec": {
   "display_name": ".venv",
   "language": "python",
   "name": ".venv"
  },
  "language_info": {
   "codemirror_mode": {
    "name": "ipython",
    "version": 3
   },
   "file_extension": ".py",
   "mimetype": "text/x-python",
   "name": "python",
   "nbconvert_exporter": "python",
   "pygments_lexer": "ipython3"
  }
 },
 "nbformat": 4,
 "nbformat_minor": 4
}
