{
 "cells": [
  {
   "cell_type": "code",
   "execution_count": null,
   "metadata": {},
   "outputs": [],
   "source": [
    "import pandas as pd\n",
    "pd.__version__"
   ]
  },
  {
   "cell_type": "markdown",
   "metadata": {},
   "source": [
    "# Pandas Series\n",
    "\n",
    "A one dimensional labelled array. A more powerful Python list."
   ]
  },
  {
   "cell_type": "markdown",
   "metadata": {},
   "source": [
    "## Dtypes and Indexes\n",
    "\n",
    "The dtype of the Series is determined by the entries inside. It also assigns each row an index. Execute the following and pay attention to the rows and dtype."
   ]
  },
  {
   "cell_type": "code",
   "execution_count": null,
   "metadata": {},
   "outputs": [],
   "source": [
    "ice_cream = [\"chocolate\", \"vanilla\", \"strawberry\", \"peach\"]"
   ]
  },
  {
   "cell_type": "code",
   "execution_count": null,
   "metadata": {},
   "outputs": [],
   "source": [
    "ice_cream_series = pd.Series(ice_cream)\n",
    "print(ice_cream_series)\n",
    "print(\"-\"*40)\n",
    "print(type(ice_cream_series))"
   ]
  },
  {
   "cell_type": "code",
   "execution_count": null,
   "metadata": {},
   "outputs": [],
   "source": [
    "lottery = [4, 8, 15, 16, 23, 42]\n",
    "lottery_series = pd.Series(lottery)\n",
    "print(lottery_series)"
   ]
  },
  {
   "cell_type": "code",
   "execution_count": null,
   "metadata": {},
   "outputs": [],
   "source": [
    "registrations = [True, False, False, False, True]\n",
    "reg_series = pd.Series(registrations)\n",
    "print(reg_series)"
   ]
  },
  {
   "cell_type": "markdown",
   "metadata": {},
   "source": [
    "## Series from a Dictionary\n",
    "\n",
    "Notice that the indexes of the items are the keys from the dictionary. This shows how versitle the indexes can be within a pandas Series."
   ]
  },
  {
   "cell_type": "code",
   "execution_count": null,
   "metadata": {},
   "outputs": [],
   "source": [
    "webster = {\n",
    "    \"Aardvark\": \"An animal\",\n",
    "    \"Banana\": \"A delicious fruit\",\n",
    "    \"Cyan\": \"A color\"\n",
    "}\n",
    "webster_series = pd.Series(webster)\n",
    "print(webster_series)"
   ]
  },
  {
   "cell_type": "markdown",
   "metadata": {},
   "source": [
    "## Series Attributes\n",
    "\n",
    "Let's take a look at the attributes on a Pandas series."
   ]
  },
  {
   "cell_type": "code",
   "execution_count": null,
   "metadata": {},
   "outputs": [],
   "source": [
    "about_me = [\"Smart\", \"Handsome\", \"Charming\", \"Brilliant\", \"Humble\"]\n",
    "about_me_series = pd.Series(about_me)\n",
    "print(about_me_series)"
   ]
  },
  {
   "cell_type": "code",
   "execution_count": null,
   "metadata": {},
   "outputs": [],
   "source": []
  }
 ],
 "metadata": {
  "kernelspec": {
   "display_name": ".venv",
   "language": "python",
   "name": ".venv"
  },
  "language_info": {
   "codemirror_mode": {
    "name": "ipython",
    "version": 3
   },
   "file_extension": ".py",
   "mimetype": "text/x-python",
   "name": "python",
   "nbconvert_exporter": "python",
   "pygments_lexer": "ipython3"
  }
 },
 "nbformat": 4,
 "nbformat_minor": 4
}
